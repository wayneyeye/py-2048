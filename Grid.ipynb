{
 "cells": [
  {
   "cell_type": "code",
   "execution_count": 2,
   "metadata": {
    "collapsed": false
   },
   "outputs": [],
   "source": [
    "class Game:\n",
    "    def __init__(self,gamestate_json):\n",
    "        self.grid\n",
    "        self.gridHistory\n",
    "        self.score\n",
    "        self.maxTile\n",
    "    def moveUP(self):\n",
    "        pass\n",
    "    def moveDOWN(self):\n",
    "        pass\n",
    "    def moveLEFT(self):\n",
    "        pass\n",
    "    def moveRIGHT(self):\n",
    "        pass\n",
    "    def randomize(self):\n",
    "        pass\n",
    "    def getScore(self):\n",
    "        return self.score\n",
    "    def displayGame(self):\n",
    "        pass\n",
    "    def reset(self):\n",
    "        pass\n",
    "    def retro(self):\n",
    "        pass\n",
    "    "
   ]
  }
 ],
 "metadata": {
  "kernelspec": {
   "display_name": "Python 3",
   "language": "python",
   "name": "python3"
  },
  "language_info": {
   "codemirror_mode": {
    "name": "ipython",
    "version": 3
   },
   "file_extension": ".py",
   "mimetype": "text/x-python",
   "name": "python",
   "nbconvert_exporter": "python",
   "pygments_lexer": "ipython3",
   "version": "3.6.0"
  }
 },
 "nbformat": 4,
 "nbformat_minor": 2
}
